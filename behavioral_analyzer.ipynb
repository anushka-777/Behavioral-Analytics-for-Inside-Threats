{
 "cells": [
  {
   "cell_type": "code",
   "execution_count": 1,
   "metadata": {},
   "outputs": [],
   "source": [
    "import sqlite3\n",
    "from datetime import datetime\n",
    "\n",
    "conn = sqlite3.connect('user_login_db.sqlite')\n",
    "cursor = conn.cursor()\n",
    "\n",
    "cursor.execute('''\n",
    "    CREATE TABLE IF NOT EXISTS user_login (\n",
    "        id INTEGER PRIMARY KEY,\n",
    "        user_id INTEGER,\n",
    "        login_time TEXT,\n",
    "        timestamp DATETIME,\n",
    "        success INTEGER\n",
    "    )\n",
    "''')\n",
    "\n",
    "conn.commit()\n",
    "conn.close()"
   ]
  },
  {
   "cell_type": "code",
   "execution_count": 2,
   "metadata": {},
   "outputs": [
    {
     "name": "stdout",
     "output_type": "stream",
     "text": [
      "ID: 1, User ID: 3, login_time: 09:13:06, Success: No\n",
      "ID: 2, User ID: 5, login_time: 21:04:33, Success: Yes\n",
      "ID: 3, User ID: 3, login_time: 20:22:12, Success: No\n",
      "ID: 4, User ID: 3, login_time: 11:45:35, Success: No\n",
      "ID: 5, User ID: 2, login_time: 04:03:25, Success: No\n",
      "ID: 6, User ID: 4, login_time: 17:44:58, Success: No\n",
      "ID: 7, User ID: 5, login_time: 10:45:52, Success: No\n",
      "ID: 8, User ID: 2, login_time: 10:47:24, Success: No\n",
      "ID: 9, User ID: 3, login_time: 17:38:42, Success: Yes\n",
      "ID: 10, User ID: 3, login_time: 22:37:11, Success: No\n",
      "ID: 11, User ID: 3, login_time: 22:15:07, Success: Yes\n",
      "ID: 12, User ID: 2, login_time: 16:34:09, Success: No\n",
      "ID: 13, User ID: 5, login_time: 17:12:26, Success: Yes\n",
      "ID: 14, User ID: 4, login_time: 15:32:19, Success: Yes\n",
      "ID: 15, User ID: 3, login_time: 20:30:59, Success: Yes\n",
      "ID: 16, User ID: 3, login_time: 20:38:48, Success: Yes\n",
      "ID: 17, User ID: 4, login_time: 17:46:46, Success: No\n",
      "ID: 18, User ID: 1, login_time: 14:39:31, Success: Yes\n",
      "ID: 19, User ID: 4, login_time: 13:06:59, Success: Yes\n",
      "ID: 20, User ID: 3, login_time: 04:07:47, Success: No\n",
      "ID: 21, User ID: 2, login_time: 21:24:19, Success: No\n",
      "ID: 22, User ID: 4, login_time: 03:42:31, Success: No\n",
      "ID: 23, User ID: 1, login_time: 09:43:35, Success: Yes\n",
      "ID: 24, User ID: 2, login_time: 00:09:03, Success: No\n",
      "ID: 25, User ID: 1, login_time: 10:06:18, Success: No\n",
      "ID: 26, User ID: 2, login_time: 09:39:52, Success: No\n",
      "ID: 27, User ID: 1, login_time: 05:58:02, Success: No\n",
      "ID: 28, User ID: 4, login_time: 23:01:02, Success: Yes\n",
      "ID: 29, User ID: 4, login_time: 19:33:45, Success: No\n",
      "ID: 30, User ID: 3, login_time: 22:37:44, Success: No\n",
      "ID: 31, User ID: 2, login_time: 17:06:56, Success: Yes\n",
      "ID: 32, User ID: 4, login_time: 05:46:21, Success: No\n",
      "ID: 33, User ID: 4, login_time: 06:23:09, Success: Yes\n",
      "ID: 34, User ID: 2, login_time: 03:29:55, Success: Yes\n",
      "ID: 35, User ID: 1, login_time: 16:20:24, Success: No\n",
      "ID: 36, User ID: 1, login_time: 02:06:43, Success: Yes\n",
      "ID: 37, User ID: 3, login_time: 09:06:19, Success: No\n",
      "ID: 38, User ID: 5, login_time: 06:18:20, Success: Yes\n",
      "ID: 39, User ID: 5, login_time: 15:01:47, Success: No\n",
      "ID: 40, User ID: 5, login_time: 05:33:36, Success: Yes\n",
      "ID: 41, User ID: 1, login_time: 14:16:10, Success: Yes\n",
      "ID: 42, User ID: 2, login_time: 11:43:24, Success: Yes\n",
      "ID: 43, User ID: 3, login_time: 20:01:42, Success: No\n",
      "ID: 44, User ID: 2, login_time: 17:42:38, Success: No\n",
      "ID: 45, User ID: 1, login_time: 00:13:41, Success: Yes\n",
      "ID: 46, User ID: 1, login_time: 07:52:20, Success: Yes\n",
      "ID: 47, User ID: 5, login_time: 01:29:22, Success: No\n",
      "ID: 48, User ID: 4, login_time: 06:31:40, Success: No\n",
      "ID: 49, User ID: 5, login_time: 14:15:41, Success: No\n",
      "ID: 50, User ID: 2, login_time: 08:39:20, Success: No\n"
     ]
    }
   ],
   "source": [
    "import sqlite3\n",
    "import random\n",
    "import time\n",
    "\n",
    "conn = sqlite3.connect('user_login_db.sqlite')\n",
    "cursor = conn.cursor()\n",
    "\n",
    "user_ids = [1, 2, 3, 4, 5]\n",
    "\n",
    "for _ in range(50):\n",
    "    user_id = random.choice(user_ids)\n",
    "    timestamp = time.strftime('%Y-%m-%d %H:%M:%S')\n",
    "    login_time = time.strftime('%H:%M:%S', time.gmtime(random.randint(0, 86399)))\n",
    "    success = random.randint(0, 1)\n",
    "    \n",
    "    cursor.execute('''\n",
    "        INSERT INTO user_login (user_id, timestamp,login_time, success)\n",
    "        VALUES (?, ?, ?, ?)\n",
    "    ''', (user_id, timestamp,login_time, success))\n",
    "cursor.execute('SELECT * FROM user_login')\n",
    "login_data = cursor.fetchall()\n",
    "\n",
    "failed_login_counts = {}\n",
    "\n",
    "for row in login_data:\n",
    "    user_id = row[1]\n",
    "    success = row[4]\n",
    "\n",
    "    if success == 0:\n",
    "        if user_id in failed_login_counts:\n",
    "            failed_login_counts[user_id] += 1\n",
    "        else:\n",
    "            failed_login_counts[user_id] = 1\n",
    "\n",
    "    print(f\"ID: {row[0]}, User ID: {user_id}, login_time: {row[2]}, Success: {'Yes' if success == 1 else 'No'}\")\n",
    "\n",
    "\n",
    "conn.commit()\n",
    "conn.close()"
   ]
  },
  {
   "cell_type": "code",
   "execution_count": 3,
   "metadata": {},
   "outputs": [
    {
     "name": "stdout",
     "output_type": "stream",
     "text": [
      "Anomaly detected for user 2. Failed login count: 8\n",
      "Anomaly detected for user 3. Failed login count: 8\n",
      "Anomaly detected for user 4. Failed login count: 6\n",
      "Anomaly detected for user 5. Failed login count: 4\n"
     ]
    }
   ],
   "source": [
    "import sqlite3\n",
    "\n",
    "conn = sqlite3.connect('user_login_db.sqlite')\n",
    "cursor = conn.cursor()\n",
    "\n",
    "cursor.execute('SELECT user_id, COUNT(*) FROM user_login WHERE success = 0 GROUP BY user_id')\n",
    "failed_login_counts = dict(cursor.fetchall())\n",
    "\n",
    "threshold = 3  # Adjust the threshold as needed\n",
    "\n",
    "for user_id, count in failed_login_counts.items():\n",
    "    if count > threshold:\n",
    "        print(f\"Anomaly detected for user {user_id}. Failed login count: {count}\")\n",
    "        \n",
    " \n"
   ]
  },
  {
   "cell_type": "code",
   "execution_count": 4,
   "metadata": {},
   "outputs": [
    {
     "name": "stdout",
     "output_type": "stream",
     "text": [
      "Anomalies (Time Differences Between Login Times):\n",
      "User ID: 3, Current Login Time: 09:13:06, Previous Login Time: 09:06:19\n",
      "User ID: 3, Current Login Time: 20:30:59, Previous Login Time: 20:22:12\n",
      "User ID: 3, Current Login Time: 20:38:48, Previous Login Time: 20:30:59\n",
      "User ID: 3, Current Login Time: 22:37:44, Previous Login Time: 22:37:11\n",
      "User ID: 4, Current Login Time: 06:31:40, Previous Login Time: 06:23:09\n",
      "User ID: 4, Current Login Time: 17:46:46, Previous Login Time: 17:44:58\n"
     ]
    }
   ],
   "source": [
    "# Detect anomalies based on time differences between login times\n",
    "threshold_seconds = 600  # Adjust the threshold in seconds (e.g., 600 seconds = 10 minutes)\n",
    "\n",
    "conn = sqlite3.connect('user_login_db.sqlite')\n",
    "cursor = conn.cursor()\n",
    "\n",
    "cursor.execute('SELECT user_id, login_time FROM user_login ORDER BY user_id, login_time')\n",
    "\n",
    "anomalies = []\n",
    "\n",
    "previous_user_id = None\n",
    "previous_login_time = None\n",
    "for user_id, login_time in cursor.fetchall():\n",
    "    if previous_user_id is not None and user_id == previous_user_id:\n",
    "        time_diff = (datetime.strptime(login_time, '%H:%M:%S') - datetime.strptime(previous_login_time, '%H:%M:%S')).seconds\n",
    "        if time_diff < threshold_seconds:\n",
    "            anomalies.append((user_id, login_time, previous_login_time))\n",
    "    previous_user_id = user_id\n",
    "    previous_login_time = login_time\n",
    "\n",
    "conn.close()\n",
    "\n",
    "print(\"Anomalies (Time Differences Between Login Times):\")\n",
    "for anomaly in anomalies:\n",
    "    user_id, login_time, previous_login_time = anomaly\n",
    "    print(f\"User ID: {user_id}, Current Login Time: {login_time}, Previous Login Time: {previous_login_time}\")\n"
   ]
  }
 ],
 "metadata": {
  "kernelspec": {
   "display_name": "Python 3",
   "language": "python",
   "name": "python3"
  },
  "language_info": {
   "codemirror_mode": {
    "name": "ipython",
    "version": 3
   },
   "file_extension": ".py",
   "mimetype": "text/x-python",
   "name": "python",
   "nbconvert_exporter": "python",
   "pygments_lexer": "ipython3",
   "version": "3.10.7"
  },
  "orig_nbformat": 4
 },
 "nbformat": 4,
 "nbformat_minor": 2
}
